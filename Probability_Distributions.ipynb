{
  "nbformat": 4,
  "nbformat_minor": 0,
  "metadata": {
    "colab": {
      "provenance": []
    },
    "kernelspec": {
      "name": "python3",
      "display_name": "Python 3"
    },
    "language_info": {
      "name": "python"
    }
  },
  "cells": [
    {
      "cell_type": "markdown",
      "source": [
        "# **Binomial Distribution**\n",
        "\n",
        "Binomial distribution – bu diskret ehtimollik taqsimoti bo‘lib, natija faqat ikkita imkoniyatdan iborat bo‘lganda qo‘llaniladi:\n",
        "\n",
        "Muvaffaqiyat (success)\n",
        "\n",
        "Muvaffaqiyatsizlik (failure)\n",
        "\n",
        "👉 Bu holatlar odatda **Bernoulli** tajribasi deb ataladi."
      ],
      "metadata": {
        "id": "tP5ykup-d8Sk"
      }
    },
    {
      "cell_type": "markdown",
      "source": [
        "### **Example of Binomial Distribution**\n",
        "\n",
        "Fashion Trends Online (FTO) is an e-commerce company that sells women apparel. It is observed that\n",
        "10% of their customers return the items purchased by them for many reasons (such as size, color, and\n",
        "material mismatch). On a specific day, 20 customers purchased items from FTO. Calculate:\n",
        "1. Probability that exactly 5 customers will return the items.\n",
        "2. Probability that a maximum of 5 customers will return the items.\n",
        "3. Probability that more than 5 customers will return the items purchased by them.\n",
        "4. Average number of customers who are likely to return the items and the variance and the\n",
        "standard deviation of the number of returns"
      ],
      "metadata": {
        "id": "7EHQDUoSeehg"
      }
    },
    {
      "cell_type": "markdown",
      "source": [
        "1. **Probability that exactly 5 customers will return the items.**\n",
        "\n",
        "The function stats.binom.pmf() calculates PMF for binomial distribution and takes three parameters:\n",
        "\n",
        "(a) Expected number of successful trials (5)\n",
        "\n",
        "(b) Total number of trials (20)\n",
        "\n",
        "(c) The probability of success (0.1)"
      ],
      "metadata": {
        "id": "GqJ4UwCgfL6o"
      }
    },
    {
      "cell_type": "code",
      "execution_count": 13,
      "metadata": {
        "id": "WrDg5qKRBoxJ",
        "colab": {
          "base_uri": "https://localhost:8080/"
        },
        "outputId": "48fc99bc-9019-437e-8169-d739738f6993"
      },
      "outputs": [
        {
          "output_type": "execute_result",
          "data": {
            "text/plain": [
              "np.float64(0.031921361119954424)"
            ]
          },
          "metadata": {},
          "execution_count": 13
        }
      ],
      "source": [
        "from scipy import stats\n",
        "stats.binom.pmf(5, 20, 0.1)\n",
        "\n",
        "#The corresponding probability is 0.03192, that is, the probability that exactly 5 customers will return the items is approximately 3%."
      ]
    },
    {
      "cell_type": "markdown",
      "source": [
        "To visualize how the PMF varies with increasing number of successful trials, we will create a list of\n",
        "all possible number of successes (0 to 20) and corresponding PMF values and draw a bar plot"
      ],
      "metadata": {
        "id": "Vjt5ubGnfykF"
      }
    },
    {
      "cell_type": "code",
      "source": [
        "import pandas as pd\n",
        "import seaborn as sn\n",
        "import matplotlib.pyplot as plt\n",
        "\n",
        "\n",
        "pmf_data = pd.DataFrame({'success': range(0, 21), 'pmf': list(stats.binom.pmf(range(0, 21), 20, 0.1))})\n",
        "sn.barplot(x = pmf_data.success, y = pmf_data.pmf)\n",
        "plt.ylabel('pmf')\n",
        "plt.xlabel('Number of items returned')"
      ],
      "metadata": {
        "colab": {
          "base_uri": "https://localhost:8080/",
          "height": 466
        },
        "id": "HA5VQuy0fzVS",
        "outputId": "d1fbe590-dde9-4427-94a1-b86f08d0c4a0"
      },
      "execution_count": 2,
      "outputs": [
        {
          "output_type": "execute_result",
          "data": {
            "text/plain": [
              "Text(0.5, 0, 'Number of items returned')"
            ]
          },
          "metadata": {},
          "execution_count": 2
        },
        {
          "output_type": "display_data",
          "data": {
            "text/plain": [
              "<Figure size 640x480 with 1 Axes>"
            ],
            "image/png": "[encoded data removed]"
          },
          "metadata": {}
        }
      ]
    },
    {
      "cell_type": "markdown",
      "source": [
        "2. **Probability that a maximum of 5 customers will return the items.**\n",
        "\n",
        "The class stats.binom.cdf() computes the CDF for binomial distribution. In this case the cumulative dis\u0002tribution function"
      ],
      "metadata": {
        "id": "xInuK9onh6cY"
      }
    },
    {
      "cell_type": "code",
      "source": [
        "stats.binom.cdf(5, 20, 0.1)\n",
        "\n",
        "# The corresponding probability value is 0.9887"
      ],
      "metadata": {
        "colab": {
          "base_uri": "https://localhost:8080/"
        },
        "id": "RKh6s1Yah97O",
        "outputId": "997b85b8-db58-4f83-dae0-f3669c660198"
      },
      "execution_count": 3,
      "outputs": [
        {
          "output_type": "execute_result",
          "data": {
            "text/plain": [
              "np.float64(0.988746865835491)"
            ]
          },
          "metadata": {},
          "execution_count": 3
        }
      ]
    },
    {
      "cell_type": "markdown",
      "source": [
        " 3. **Probability that more than 5 customers will return the items purchased by them.**"
      ],
      "metadata": {
        "id": "S8g8fxZJiivq"
      }
    },
    {
      "cell_type": "code",
      "source": [
        "1 - stats.binom.cdf(5, 20, 0.1)"
      ],
      "metadata": {
        "colab": {
          "base_uri": "https://localhost:8080/"
        },
        "id": "OjMkXptQiiVO",
        "outputId": "411c3cee-928e-4ba4-9d70-c12d778536e8"
      },
      "execution_count": 4,
      "outputs": [
        {
          "output_type": "execute_result",
          "data": {
            "text/plain": [
              "np.float64(0.011253134164509015)"
            ]
          },
          "metadata": {},
          "execution_count": 4
        }
      ]
    },
    {
      "cell_type": "markdown",
      "source": [
        "4. **Average number of customers who are likely to return the items and the variance and the\n",
        "standard deviation of the number of returns.**"
      ],
      "metadata": {
        "id": "mnjNBtL0i7wz"
      }
    },
    {
      "cell_type": "code",
      "source": [
        "mean, var = stats.binom.stats(20, 0.1)\n",
        "print(\"Avarage:\", mean, \"Variance: \", var)"
      ],
      "metadata": {
        "colab": {
          "base_uri": "https://localhost:8080/"
        },
        "id": "Gv2RzaXJi-Uv",
        "outputId": "5bac5b09-ad5f-4e77-c38d-274c9ea2bfde"
      },
      "execution_count": 5,
      "outputs": [
        {
          "output_type": "stream",
          "name": "stdout",
          "text": [
            "Avarage: 2.0 Variance:  1.8\n"
          ]
        }
      ]
    },
    {
      "cell_type": "markdown",
      "source": [
        "# **Poisson Distribution**\n",
        "\n",
        "Poisson taqsimot — bu diskret ehtimollik taqsimoti bo‘lib, u ma’lum vaqt yoki makon birligi ichida nechta hodisa sodir bo‘lish ehtimolini hisoblash uchun ishlatiladi.\n",
        "\n",
        "👉 Asosiy g‘oya: Hodisalar tasodifiy, mustaqil, va ma’lum o‘rtacha tezlikda (λ) yuz beradi.\n",
        "\n",
        "Misollar:\n",
        "\n",
        "E-commerce saytida ma’lum vaqtda bekor qilingan buyurtmalar soni.\n",
        "\n",
        "Mijoz shikoyatlari soni bir oy ichida.\n",
        "\n",
        "Bankomatdan pul yechishlar soni bir kunda.\n",
        "\n",
        "Kitobdagi xatoliklar soni.\n",
        "\n",
        "Yo‘ldagi chuqurchalar soni."
      ],
      "metadata": {
        "id": "WJJKoOk_pYS3"
      }
    },
    {
      "cell_type": "markdown",
      "source": [
        "### **Example of Poisson Distribution**\n",
        "The number of calls arriving at a call center follows a Poisson distribution at 10 calls per hour.\n",
        "1. Calculate the probability that the number of calls will be maximum 5.\n",
        "2. Calculate the probability that the number of calls over a 3-hour period will exceed 30"
      ],
      "metadata": {
        "id": "eUB6I33Hpxlt"
      }
    },
    {
      "cell_type": "markdown",
      "source": [
        "### **1. Calculate the probability that a maximum of 5 calls will arrive at the call center.**\n",
        "As the number of calls arriving at the center follows Poisson distribution, we can use stats.poisson.cdf to\n",
        "calculate the probability value. It takes the following two parameters:\n",
        "\n",
        "(a) First parameter: Number of events (in this case, 5 calls) for which the probability needs to be\n",
        "calculated.\n",
        "\n",
        "(b) Second parameter: The average numbers of events (i.e., 10 calls per hour)"
      ],
      "metadata": {
        "id": "0jDBufNSp9-f"
      }
    },
    {
      "cell_type": "code",
      "source": [
        "stats.poisson.cdf(5, 10)\n",
        "\n",
        "# The corresponding probability is 0.067."
      ],
      "metadata": {
        "colab": {
          "base_uri": "https://localhost:8080/"
        },
        "id": "aBtx1NIfplA4",
        "outputId": "334dde0a-671b-4117-dafe-c80839d4570f"
      },
      "execution_count": 6,
      "outputs": [
        {
          "output_type": "execute_result",
          "data": {
            "text/plain": [
              "np.float64(0.06708596287903189)"
            ]
          },
          "metadata": {},
          "execution_count": 6
        }
      ]
    },
    {
      "cell_type": "markdown",
      "source": [
        "### **2. Calculate the probability that the number of calls over a 3-hour period will exceed 30.**\n",
        "Since the average calls per hour is 10 (l = 10), and we are interested in finding the calls over 3 hours, the mean\n",
        "number of calls over 3 hours is lt = 30. Probability that the number of calls will be more than 30 is given by\n"
      ],
      "metadata": {
        "id": "jKIoHLxtqduR"
      }
    },
    {
      "cell_type": "code",
      "source": [
        "1 - stats.poisson.cdf(30, 30)\n",
        "\n",
        "# the corresponding probability is 0.451"
      ],
      "metadata": {
        "colab": {
          "base_uri": "https://localhost:8080/"
        },
        "id": "Qggim8xvqlxq",
        "outputId": "4506bd92-76de-455b-b7f5-0211ee374670"
      },
      "execution_count": 7,
      "outputs": [
        {
          "output_type": "execute_result",
          "data": {
            "text/plain": [
              "np.float64(0.45164848742208863)"
            ]
          },
          "metadata": {},
          "execution_count": 7
        }
      ]
    },
    {
      "cell_type": "code",
      "source": [
        "pmf_data = pd.DataFrame({\"success\": range(0, 30), \"pmf\": list(stats.poisson.pmf(range(0, 30), 10))})\n",
        "\n",
        "sn.barplot(x = pmf_data.success, y = pmf_data.pmf)\n",
        "plt.xlabel(\"Number of calls received\")"
      ],
      "metadata": {
        "colab": {
          "base_uri": "https://localhost:8080/",
          "height": 466
        },
        "id": "uVWmN4w3rH2v",
        "outputId": "fdd1ebe7-b2f5-4716-f07c-96967a102fba"
      },
      "execution_count": 8,
      "outputs": [
        {
          "output_type": "execute_result",
          "data": {
            "text/plain": [
              "Text(0.5, 0, 'Number of calls received')"
            ]
          },
          "metadata": {},
          "execution_count": 8
        },
        {
          "output_type": "display_data",
          "data": {
            "text/plain": [
              "<Figure size 640x480 with 1 Axes>"
            ],
            "image/png": "[encoded data removed]"
          },
          "metadata": {}
        }
      ]
    },
    {
      "cell_type": "markdown",
      "source": [
        "# **Exponential Distribution**\n",
        "\n",
        "Eksponensial taqsimot — bu uzluksiz ehtimollik taqsimoti bo‘lib, u odatda biror hodisaning sodir bo‘lishigacha bo‘lgan vaqtni modellashtiradi.\n",
        "\n",
        "👉 Asosan quyidagilarga ishlatiladi:\n",
        "\n",
        "Elektron komponentning ishdan chiqish vaqti.\n",
        "\n",
        "Mijoz xizmat ko‘rsatish kassasida navbat kutish vaqti.\n",
        "\n",
        "Keyingi telefon qo‘ng‘irog‘igacha bo‘lgan vaqt.\n",
        "\n",
        "Bu taqsimotda hodisalar doimiy o‘rtacha tezlikda (λ) va mustaqil ravishda yuz beradi."
      ],
      "metadata": {
        "id": "G00M1GZf3Y85"
      }
    },
    {
      "cell_type": "markdown",
      "source": [
        "### **Example of Exponential Distribution**\n",
        "The time-to-failure of an avionic system follows an exponential distribution with a mean time between\n",
        "failures (MTBF) of 1000 hours. Calculate\n",
        "1. The probability that the system will fail before 1000 hours.\n",
        "2. The probability that it will not fail up to 2000 hours.\n",
        "3. The time by which 10% of the system will fail (i.e., calculate P10 life)"
      ],
      "metadata": {
        "id": "Snxr7bhg3qKm"
      }
    },
    {
      "cell_type": "markdown",
      "source": [
        "### 1. **Calculate the probability that the system will fail before 1000 hours**"
      ],
      "metadata": {
        "id": "5shKkEYk3vuY"
      }
    },
    {
      "cell_type": "code",
      "source": [
        "stats.expon.cdf(1000, loc = 1/1000, scale = 1000)\n",
        "\n",
        "# The corresponding probability value is 0.6321"
      ],
      "metadata": {
        "colab": {
          "base_uri": "https://localhost:8080/"
        },
        "id": "lK-Oxf5Q3hWV",
        "outputId": "6b2220b2-bc77-4e5d-d26b-a33d83b086d9"
      },
      "execution_count": 9,
      "outputs": [
        {
          "output_type": "execute_result",
          "data": {
            "text/plain": [
              "np.float64(0.6321201909489326)"
            ]
          },
          "metadata": {},
          "execution_count": 9
        }
      ]
    },
    {
      "cell_type": "markdown",
      "source": [
        "### 2. **Calculate the probability that it will not fail up to 2000 hours.**"
      ],
      "metadata": {
        "id": "IPtSLNz34T51"
      }
    },
    {
      "cell_type": "code",
      "source": [
        "1 - stats.expon.cdf(2000, loc = 1/1000, scale = 1000)\n",
        "\n",
        "# The corresponding probability value 0.1353"
      ],
      "metadata": {
        "colab": {
          "base_uri": "https://localhost:8080/"
        },
        "id": "EkIeB0_k4TYH",
        "outputId": "b163a31d-d536-4d2c-c38b-b4bb216403f4"
      },
      "execution_count": 10,
      "outputs": [
        {
          "output_type": "execute_result",
          "data": {
            "text/plain": [
              "np.float64(0.13533541857196352)"
            ]
          },
          "metadata": {},
          "execution_count": 10
        }
      ]
    },
    {
      "cell_type": "markdown",
      "source": [
        "### 3. **Calculate the time by which 10% of the system will fail (i.e., calculate P10 life)**\n",
        "\n",
        "This can be calculated by ppf (percent point function) and is an inverse of CDF. stats.expon.ppf takes the\n",
        "percent point value and the mean and scale of the exponential distribution."
      ],
      "metadata": {
        "id": "8_L0eDPU4yF3"
      }
    },
    {
      "cell_type": "code",
      "source": [
        "stats.expon.ppf(.1, loc = 1/1000, scale = 1000)\n",
        "\n",
        "# That is, by 105.36 hours, 10% of systems will fail"
      ],
      "metadata": {
        "colab": {
          "base_uri": "https://localhost:8080/"
        },
        "id": "kv7Zkcis43Bc",
        "outputId": "672c362c-f239-4eba-8e59-1d2bdbfefa03"
      },
      "execution_count": 11,
      "outputs": [
        {
          "output_type": "execute_result",
          "data": {
            "text/plain": [
              "np.float64(105.36151565782632)"
            ]
          },
          "metadata": {},
          "execution_count": 11
        }
      ]
    },
    {
      "cell_type": "code",
      "source": [
        "pdf_data = pd.DataFrame({'success': range(0, 5000, 100), 'pdf': list(stats.expon.pdf(range(0, 5000, 100), loc = 1/1000, scale = 1000))})\n",
        "plt.figure(figsize=(10,4))\n",
        "sn.barplot(x = pdf_data.success, y = pdf_data.pdf)\n",
        "plt.xticks(rotation = 90)\n",
        "plt.xlabel(\"Time to failure\")"
      ],
      "metadata": {
        "colab": {
          "base_uri": "https://localhost:8080/",
          "height": 426
        },
        "id": "5Ndn1F7v5iv7",
        "outputId": "42e8c6dc-c0d2-4aa0-a74b-65de788fef6d"
      },
      "execution_count": 12,
      "outputs": [
        {
          "output_type": "execute_result",
          "data": {
            "text/plain": [
              "Text(0.5, 0, 'Time to failure')"
            ]
          },
          "metadata": {},
          "execution_count": 12
        },
        {
          "output_type": "display_data",
          "data": {
            "text/plain": [
              "<Figure size 1000x400 with 1 Axes>"
            ],
            "image/png": "[encoded data removed]"
          },
          "metadata": {}
        }
      ]
    },
    {
      "cell_type": "markdown",
      "source": [
        "# **Normal Distribution**\n",
        "\n",
        "Normal taqsimot (Gaussian distribution)\n",
        "\n",
        "Normal taqsimot — bu **eng mashhur uzluksiz ehtimollik taqsimoti bo‘lib**, juda ko‘p real hayotdagi hodisalarni modellashtirishda ishlatiladi.\n",
        "\n",
        "U shuningdek **Gauss taqsimoti** yoki **qo‘ng‘iroq egri chizig‘i** (bell curve) deb ham ataladi, chunki grafigi qo‘ng‘iroqqa o‘xshaydi.\n",
        "\n",
        "**Normal taqsimotning xususiyatlari**:\n",
        "\n",
        "Doimiy (continuous) taqsimot.\n",
        "\n",
        "Grafigi **simmetrik** bo‘ladi – markaz atrofida (o‘rtacha qiymat).\n",
        "\n",
        "Ikkita parametr bilan belgilanadi:\n",
        "\n",
        "\n",
        "μ (mu) – o‘rtacha qiymat (mean)\n",
        "\n",
        "\n",
        "σ (sigma) – standart og‘ish (standard deviation)"
      ],
      "metadata": {
        "id": "0YqThOKwGT4W"
      }
    },
    {
      "cell_type": "code",
      "source": [
        "data = pd.read_csv(\"blood-pressure.csv\")\n",
        "data.head(5)\n",
        "\n",
        "plt.plot(data.Blood_Pressure)\n",
        "plt.xlabel(\"Age\")\n",
        "plt.ylabel(\"Blood Pressure\")"
      ],
      "metadata": {
        "id": "qf_awe6M7D-Q",
        "colab": {
          "base_uri": "https://localhost:8080/",
          "height": 466
        },
        "outputId": "f1f0ef89-e137-40a0-b33d-45c02fff62f7"
      },
      "execution_count": 17,
      "outputs": [
        {
          "output_type": "execute_result",
          "data": {
            "text/plain": [
              "Text(0, 0.5, 'Blood Pressure')"
            ]
          },
          "metadata": {},
          "execution_count": 17
        },
        {
          "output_type": "display_data",
          "data": {
            "text/plain": [
              "<Figure size 640x480 with 1 Axes>"
            ],
            "image/png": "[encoded data removed]"
          },
          "metadata": {}
        }
      ]
    },
    {
      "cell_type": "code",
      "source": [
        "data['difference'] = data.Blood_Pressure.pct_change(periods = 1)\n",
        "data = data.dropna()\n",
        "data.head()"
      ],
      "metadata": {
        "colab": {
          "base_uri": "https://localhost:8080/",
          "height": 206
        },
        "id": "_TrRv3q4IHx2",
        "outputId": "d666e99d-3253-4c4e-bc73-ec2c17b19b30"
      },
      "execution_count": 22,
      "outputs": [
        {
          "output_type": "execute_result",
          "data": {
            "text/plain": [
              "   Index  One  Age  Blood_Pressure  difference\n",
              "2      3    1   45             138   -0.372727\n",
              "3      4    1   47             145    0.050725\n",
              "4      5    1   65             162    0.117241\n",
              "5      6    1   46             142   -0.123457\n",
              "6      7    1   67             170    0.197183"
            ],
            "text/html": [
              "\n",
              "  <div id=\"df-11454cff-3eeb-4f26-b471-c47a33cb8c27\" class=\"colab-df-container\">\n",
              "    <div>\n",
              "<style scoped>\n",
              "    .dataframe tbody tr th:only-of-type {\n",
              "        vertical-align: middle;\n",
              "    }\n",
              "\n",
              "    .dataframe tbody tr th {\n",
              "        vertical-align: top;\n",
              "    }\n",
              "\n",
              "    .dataframe thead th {\n",
              "        text-align: right;\n",
              "    }\n",
              "</style>\n",
              "<table border=\"1\" class=\"dataframe\">\n",
              "  <thead>\n",
              "    <tr style=\"text-align: right;\">\n",
              "      <th></th>\n",
              "      <th>Index</th>\n",
              "      <th>One</th>\n",
              "      <th>Age</th>\n",
              "      <th>Blood_Pressure</th>\n",
              "      <th>difference</th>\n",
              "    </tr>\n",
              "  </thead>\n",
              "  <tbody>\n",
              "    <tr>\n",
              "      <th>2</th>\n",
              "      <td>3</td>\n",
              "      <td>1</td>\n",
              "      <td>45</td>\n",
              "      <td>138</td>\n",
              "      <td>-0.372727</td>\n",
              "    </tr>\n",
              "    <tr>\n",
              "      <th>3</th>\n",
              "      <td>4</td>\n",
              "      <td>1</td>\n",
              "      <td>47</td>\n",
              "      <td>145</td>\n",
              "      <td>0.050725</td>\n",
              "    </tr>\n",
              "    <tr>\n",
              "      <th>4</th>\n",
              "      <td>5</td>\n",
              "      <td>1</td>\n",
              "      <td>65</td>\n",
              "      <td>162</td>\n",
              "      <td>0.117241</td>\n",
              "    </tr>\n",
              "    <tr>\n",
              "      <th>5</th>\n",
              "      <td>6</td>\n",
              "      <td>1</td>\n",
              "      <td>46</td>\n",
              "      <td>142</td>\n",
              "      <td>-0.123457</td>\n",
              "    </tr>\n",
              "    <tr>\n",
              "      <th>6</th>\n",
              "      <td>7</td>\n",
              "      <td>1</td>\n",
              "      <td>67</td>\n",
              "      <td>170</td>\n",
              "      <td>0.197183</td>\n",
              "    </tr>\n",
              "  </tbody>\n",
              "</table>\n",
              "</div>\n",
              "    <div class=\"colab-df-buttons\">\n",
              "\n",
              "  <div class=\"colab-df-container\">\n",
              "    <button class=\"colab-df-convert\" onclick=\"convertToInteractive('df-11454cff-3eeb-4f26-b471-c47a33cb8c27')\"\n",
              "            title=\"Convert this dataframe to an interactive table.\"\n",
              "            style=\"display:none;\">\n",
              "\n",
              "  <svg xmlns=\"http://www.w3.org/2000/svg\" height=\"24px\" viewBox=\"0 -960 960 960\">\n",
              "    <path d=\"M120-120v-720h720v720H120Zm60-500h600v-160H180v160Zm220 220h160v-160H400v160Zm0 220h160v-160H400v160ZM180-400h160v-160H180v160Zm440 0h160v-160H620v160ZM180-180h160v-160H180v160Zm440 0h160v-160H620v160Z\"/>\n",
              "  </svg>\n",
              "    </button>\n",
              "\n",
              "  <style>\n",
              "    .colab-df-container {\n",
              "      display:flex;\n",
              "      gap: 12px;\n",
              "    }\n",
              "\n",
              "    .colab-df-convert {\n",
              "      background-color: #E8F0FE;\n",
              "      border: none;\n",
              "      border-radius: 50%;\n",
              "      cursor: pointer;\n",
              "      display: none;\n",
              "      fill: #1967D2;\n",
              "      height: 32px;\n",
              "      padding: 0 0 0 0;\n",
              "      width: 32px;\n",
              "    }\n",
              "\n",
              "    .colab-df-convert:hover {\n",
              "      background-color: #E2EBFA;\n",
              "      box-shadow: 0px 1px 2px rgba(60, 64, 67, 0.3), 0px 1px 3px 1px rgba(60, 64, 67, 0.15);\n",
              "      fill: #174EA6;\n",
              "    }\n",
              "\n",
              "    .colab-df-buttons div {\n",
              "      margin-bottom: 4px;\n",
              "    }\n",
              "\n",
              "    [theme=dark] .colab-df-convert {\n",
              "      background-color: #3B4455;\n",
              "      fill: #D2E3FC;\n",
              "    }\n",
              "\n",
              "    [theme=dark] .colab-df-convert:hover {\n",
              "      background-color: #434B5C;\n",
              "      box-shadow: 0px 1px 3px 1px rgba(0, 0, 0, 0.15);\n",
              "      filter: drop-shadow(0px 1px 2px rgba(0, 0, 0, 0.3));\n",
              "      fill: #FFFFFF;\n",
              "    }\n",
              "  </style>\n",
              "\n",
              "    <script>\n",
              "      const buttonEl =\n",
              "        document.querySelector('#df-11454cff-3eeb-4f26-b471-c47a33cb8c27 button.colab-df-convert');\n",
              "      buttonEl.style.display =\n",
              "        google.colab.kernel.accessAllowed ? 'block' : 'none';\n",
              "\n",
              "      async function convertToInteractive(key) {\n",
              "        const element = document.querySelector('#df-11454cff-3eeb-4f26-b471-c47a33cb8c27');\n",
              "        const dataTable =\n",
              "          await google.colab.kernel.invokeFunction('convertToInteractive',\n",
              "                                                    [key], {});\n",
              "        if (!dataTable) return;\n",
              "\n",
              "        const docLinkHtml = 'Like what you see? Visit the ' +\n",
              "          '<a target=\"_blank\" href=https://colab.research.google.com/notebooks/data_table.ipynb>data table notebook</a>'\n",
              "          + ' to learn more about interactive tables.';\n",
              "        element.innerHTML = '';\n",
              "        dataTable['output_type'] = 'display_data';\n",
              "        await google.colab.output.renderOutput(dataTable, element);\n",
              "        const docLink = document.createElement('div');\n",
              "        docLink.innerHTML = docLinkHtml;\n",
              "        element.appendChild(docLink);\n",
              "      }\n",
              "    </script>\n",
              "  </div>\n",
              "\n",
              "\n",
              "    <div id=\"df-10cd3fec-c4fd-4ddb-a76d-3ea8339ae00f\">\n",
              "      <button class=\"colab-df-quickchart\" onclick=\"quickchart('df-10cd3fec-c4fd-4ddb-a76d-3ea8339ae00f')\"\n",
              "                title=\"Suggest charts\"\n",
              "                style=\"display:none;\">\n",
              "\n",
              "<svg xmlns=\"http://www.w3.org/2000/svg\" height=\"24px\"viewBox=\"0 0 24 24\"\n",
              "     width=\"24px\">\n",
              "    <g>\n",
              "        <path d=\"M19 3H5c-1.1 0-2 .9-2 2v14c0 1.1.9 2 2 2h14c1.1 0 2-.9 2-2V5c0-1.1-.9-2-2-2zM9 17H7v-7h2v7zm4 0h-2V7h2v10zm4 0h-2v-4h2v4z\"/>\n",
              "    </g>\n",
              "</svg>\n",
              "      </button>\n",
              "\n",
              "<style>\n",
              "  .colab-df-quickchart {\n",
              "      --bg-color: #E8F0FE;\n",
              "      --fill-color: #1967D2;\n",
              "      --hover-bg-color: #E2EBFA;\n",
              "      --hover-fill-color: #174EA6;\n",
              "      --disabled-fill-color: #AAA;\n",
              "      --disabled-bg-color: #DDD;\n",
              "  }\n",
              "\n",
              "  [theme=dark] .colab-df-quickchart {\n",
              "      --bg-color: #3B4455;\n",
              "      --fill-color: #D2E3FC;\n",
              "      --hover-bg-color: #434B5C;\n",
              "      --hover-fill-color: #FFFFFF;\n",
              "      --disabled-bg-color: #3B4455;\n",
              "      --disabled-fill-color: #666;\n",
              "  }\n",
              "\n",
              "  .colab-df-quickchart {\n",
              "    background-color: var(--bg-color);\n",
              "    border: none;\n",
              "    border-radius: 50%;\n",
              "    cursor: pointer;\n",
              "    display: none;\n",
              "    fill: var(--fill-color);\n",
              "    height: 32px;\n",
              "    padding: 0;\n",
              "    width: 32px;\n",
              "  }\n",
              "\n",
              "  .colab-df-quickchart:hover {\n",
              "    background-color: var(--hover-bg-color);\n",
              "    box-shadow: 0 1px 2px rgba(60, 64, 67, 0.3), 0 1px 3px 1px rgba(60, 64, 67, 0.15);\n",
              "    fill: var(--button-hover-fill-color);\n",
              "  }\n",
              "\n",
              "  .colab-df-quickchart-complete:disabled,\n",
              "  .colab-df-quickchart-complete:disabled:hover {\n",
              "    background-color: var(--disabled-bg-color);\n",
              "    fill: var(--disabled-fill-color);\n",
              "    box-shadow: none;\n",
              "  }\n",
              "\n",
              "  .colab-df-spinner {\n",
              "    border: 2px solid var(--fill-color);\n",
              "    border-color: transparent;\n",
              "    border-bottom-color: var(--fill-color);\n",
              "    animation:\n",
              "      spin 1s steps(1) infinite;\n",
              "  }\n",
              "\n",
              "  @keyframes spin {\n",
              "    0% {\n",
              "      border-color: transparent;\n",
              "      border-bottom-color: var(--fill-color);\n",
              "      border-left-color: var(--fill-color);\n",
              "    }\n",
              "    20% {\n",
              "      border-color: transparent;\n",
              "      border-left-color: var(--fill-color);\n",
              "      border-top-color: var(--fill-color);\n",
              "    }\n",
              "    30% {\n",
              "      border-color: transparent;\n",
              "      border-left-color: var(--fill-color);\n",
              "      border-top-color: var(--fill-color);\n",
              "      border-right-color: var(--fill-color);\n",
              "    }\n",
              "    40% {\n",
              "      border-color: transparent;\n",
              "      border-right-color: var(--fill-color);\n",
              "      border-top-color: var(--fill-color);\n",
              "    }\n",
              "    60% {\n",
              "      border-color: transparent;\n",
              "      border-right-color: var(--fill-color);\n",
              "    }\n",
              "    80% {\n",
              "      border-color: transparent;\n",
              "      border-right-color: var(--fill-color);\n",
              "      border-bottom-color: var(--fill-color);\n",
              "    }\n",
              "    90% {\n",
              "      border-color: transparent;\n",
              "      border-bottom-color: var(--fill-color);\n",
              "    }\n",
              "  }\n",
              "</style>\n",
              "\n",
              "      <script>\n",
              "        async function quickchart(key) {\n",
              "          const quickchartButtonEl =\n",
              "            document.querySelector('#' + key + ' button');\n",
              "          quickchartButtonEl.disabled = true;  // To prevent multiple clicks.\n",
              "          quickchartButtonEl.classList.add('colab-df-spinner');\n",
              "          try {\n",
              "            const charts = await google.colab.kernel.invokeFunction(\n",
              "                'suggestCharts', [key], {});\n",
              "          } catch (error) {\n",
              "            console.error('Error during call to suggestCharts:', error);\n",
              "          }\n",
              "          quickchartButtonEl.classList.remove('colab-df-spinner');\n",
              "          quickchartButtonEl.classList.add('colab-df-quickchart-complete');\n",
              "        }\n",
              "        (() => {\n",
              "          let quickchartButtonEl =\n",
              "            document.querySelector('#df-10cd3fec-c4fd-4ddb-a76d-3ea8339ae00f button');\n",
              "          quickchartButtonEl.style.display =\n",
              "            google.colab.kernel.accessAllowed ? 'block' : 'none';\n",
              "        })();\n",
              "      </script>\n",
              "    </div>\n",
              "\n",
              "    </div>\n",
              "  </div>\n"
            ],
            "application/vnd.google.colaboratory.intrinsic+json": {
              "type": "dataframe",
              "variable_name": "data",
              "summary": "{\n  \"name\": \"data\",\n  \"rows\": 28,\n  \"fields\": [\n    {\n      \"column\": \"Index\",\n      \"properties\": {\n        \"dtype\": \"number\",\n        \"std\": 8,\n        \"min\": 3,\n        \"max\": 30,\n        \"num_unique_values\": 28,\n        \"samples\": [\n          12,\n          28,\n          11\n        ],\n        \"semantic_type\": \"\",\n        \"description\": \"\"\n      }\n    },\n    {\n      \"column\": \"One\",\n      \"properties\": {\n        \"dtype\": \"number\",\n        \"std\": 0,\n        \"min\": 1,\n        \"max\": 1,\n        \"num_unique_values\": 1,\n        \"samples\": [\n          1\n        ],\n        \"semantic_type\": \"\",\n        \"description\": \"\"\n      }\n    },\n    {\n      \"column\": \"Age\",\n      \"properties\": {\n        \"dtype\": \"number\",\n        \"std\": 15,\n        \"min\": 17,\n        \"max\": 69,\n        \"num_unique_values\": 24,\n        \"samples\": [\n          59\n        ],\n        \"semantic_type\": \"\",\n        \"description\": \"\"\n      }\n    },\n    {\n      \"column\": \"Blood_Pressure\",\n      \"properties\": {\n        \"dtype\": \"number\",\n        \"std\": 17,\n        \"min\": 110,\n        \"max\": 175,\n        \"num_unique_values\": 22,\n        \"samples\": [\n          138\n        ],\n        \"semantic_type\": \"\",\n        \"description\": \"\"\n      }\n    },\n    {\n      \"column\": \"difference\",\n      \"properties\": {\n        \"dtype\": \"number\",\n        \"std\": 0.17202334512691653,\n        \"min\": -0.3727272727272727,\n        \"max\": 0.3999999999999999,\n        \"num_unique_values\": 28,\n        \"samples\": [\n          -0.07407407407407407\n        ],\n        \"semantic_type\": \"\",\n        \"description\": \"\"\n      }\n    }\n  ]\n}"
            }
          },
          "metadata": {},
          "execution_count": 22
        }
      ]
    },
    {
      "cell_type": "code",
      "source": [
        "plt.figure(figsize = (8, 6))\n",
        "plt.plot(data.Index, data.difference)\n",
        "plt.xlabel(\"Age\")\n",
        "plt.ylabel(\"difference\")"
      ],
      "metadata": {
        "colab": {
          "base_uri": "https://localhost:8080/",
          "height": 559
        },
        "id": "okJVvi7QI17M",
        "outputId": "5c2dabce-d25b-4158-e51f-0967288fa661"
      },
      "execution_count": 23,
      "outputs": [
        {
          "output_type": "execute_result",
          "data": {
            "text/plain": [
              "Text(0, 0.5, 'difference')"
            ]
          },
          "metadata": {},
          "execution_count": 23
        },
        {
          "output_type": "display_data",
          "data": {
            "text/plain": [
              "<Figure size 800x600 with 1 Axes>"
            ],
            "image/png": "[encoded data removed]"
          },
          "metadata": {}
        }
      ]
    },
    {
      "cell_type": "markdown",
      "source": [
        "## **Mean and Variance**\n",
        "\n",
        "Methods *mean()* and *std()* on DataFrame columns return mean and standard deviation, respectively."
      ],
      "metadata": {
        "id": "ZEJFcdEAL1oh"
      }
    },
    {
      "cell_type": "code",
      "source": [
        "print(\"Mean: \", data.Age.mean())\n",
        "print(\"Standart Deviation: \", data.difference.std())\n",
        "data.difference.describe()"
      ],
      "metadata": {
        "colab": {
          "base_uri": "https://localhost:8080/",
          "height": 370
        },
        "id": "7v6pX0MuMCJs",
        "outputId": "687056f2-c665-4eeb-a71f-0f7143bf3cd9"
      },
      "execution_count": 32,
      "outputs": [
        {
          "output_type": "stream",
          "name": "stdout",
          "text": [
            "Mean:  45.285714285714285\n",
            "Standart Deviation:  0.17202334512691653\n"
          ]
        },
        {
          "output_type": "execute_result",
          "data": {
            "text/plain": [
              "count    28.000000\n",
              "mean      0.006263\n",
              "std       0.172023\n",
              "min      -0.372727\n",
              "25%      -0.090761\n",
              "50%       0.007812\n",
              "75%       0.075918\n",
              "max       0.400000\n",
              "Name: difference, dtype: float64"
            ],
            "text/html": [
              "<div>\n",
              "<style scoped>\n",
              "    .dataframe tbody tr th:only-of-type {\n",
              "        vertical-align: middle;\n",
              "    }\n",
              "\n",
              "    .dataframe tbody tr th {\n",
              "        vertical-align: top;\n",
              "    }\n",
              "\n",
              "    .dataframe thead th {\n",
              "        text-align: right;\n",
              "    }\n",
              "</style>\n",
              "<table border=\"1\" class=\"dataframe\">\n",
              "  <thead>\n",
              "    <tr style=\"text-align: right;\">\n",
              "      <th></th>\n",
              "      <th>difference</th>\n",
              "    </tr>\n",
              "  </thead>\n",
              "  <tbody>\n",
              "    <tr>\n",
              "      <th>count</th>\n",
              "      <td>28.000000</td>\n",
              "    </tr>\n",
              "    <tr>\n",
              "      <th>mean</th>\n",
              "      <td>0.006263</td>\n",
              "    </tr>\n",
              "    <tr>\n",
              "      <th>std</th>\n",
              "      <td>0.172023</td>\n",
              "    </tr>\n",
              "    <tr>\n",
              "      <th>min</th>\n",
              "      <td>-0.372727</td>\n",
              "    </tr>\n",
              "    <tr>\n",
              "      <th>25%</th>\n",
              "      <td>-0.090761</td>\n",
              "    </tr>\n",
              "    <tr>\n",
              "      <th>50%</th>\n",
              "      <td>0.007812</td>\n",
              "    </tr>\n",
              "    <tr>\n",
              "      <th>75%</th>\n",
              "      <td>0.075918</td>\n",
              "    </tr>\n",
              "    <tr>\n",
              "      <th>max</th>\n",
              "      <td>0.400000</td>\n",
              "    </tr>\n",
              "  </tbody>\n",
              "</table>\n",
              "</div><br><label><b>dtype:</b> float64</label>"
            ]
          },
          "metadata": {},
          "execution_count": 32
        }
      ]
    },
    {
      "cell_type": "code",
      "source": [
        "data_ci = stats.norm.interval(0.95, loc = data.difference.mean(), scale = data.difference.std())\n",
        "print(data_ci)"
      ],
      "metadata": {
        "colab": {
          "base_uri": "https://localhost:8080/"
        },
        "id": "FTqvACd8Ol8l",
        "outputId": "c6be34ad-2826-40cc-da8a-b641f2f943c6"
      },
      "execution_count": 34,
      "outputs": [
        {
          "output_type": "stream",
          "name": "stdout",
          "text": [
            "(np.float64(-0.3308968298296162), np.float64(0.34342229206810415))\n"
          ]
        }
      ]
    },
    {
      "cell_type": "code",
      "source": [
        "stats.norm.cdf(-0.02, loc = data.difference.mean(), scale = data.difference.std())"
      ],
      "metadata": {
        "colab": {
          "base_uri": "https://localhost:8080/"
        },
        "id": "zsPxmTFaQzcP",
        "outputId": "a6c11d89-5256-4dc1-e053-47d863c3d309"
      },
      "execution_count": 36,
      "outputs": [
        {
          "output_type": "execute_result",
          "data": {
            "text/plain": [
              "np.float64(0.4393294272455289)"
            ]
          },
          "metadata": {},
          "execution_count": 36
        }
      ]
    }
  ]
}